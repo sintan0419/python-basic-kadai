{
  "nbformat": 4,
  "nbformat_minor": 0,
  "metadata": {
    "colab": {
      "provenance": []
    },
    "kernelspec": {
      "name": "python3",
      "display_name": "Python 3"
    },
    "language_info": {
      "name": "python"
    }
  },
  "cells": [
    {
      "cell_type": "code",
      "source": [
        "import random\n",
        "\n",
        "var = random.randint(0,100)\n",
        "\n",
        "if var % 3 == 0 and var % 5 == 0:\n",
        "    print(var)\n",
        "    print(\"FizzBuzz\")\n",
        "elif var % 5 == 0:\n",
        "    print(var)\n",
        "    print(\"Buzz\")\n",
        "elif var %  3 == 0:\n",
        "    print(var)\n",
        "    print(\"Fizz\")\n",
        "else:\n",
        "    print(var)"
      ],
      "metadata": {
        "colab": {
          "base_uri": "https://localhost:8080/"
        },
        "id": "U3RWL8Y-mmGW",
        "outputId": "a67e920e-6dc5-437d-d601-a4e48d202442"
      },
      "execution_count": 107,
      "outputs": [
        {
          "output_type": "stream",
          "name": "stdout",
          "text": [
            "57\n",
            "Fizz\n"
          ]
        }
      ]
    }
  ]
}