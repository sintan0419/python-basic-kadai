{
  "nbformat": 4,
  "nbformat_minor": 0,
  "metadata": {
    "colab": {
      "provenance": []
    },
    "kernelspec": {
      "name": "python3",
      "display_name": "Python 3"
    },
    "language_info": {
      "name": "python"
    }
  },
  "cells": [
    {
      "cell_type": "code",
      "execution_count": 37,
      "metadata": {
        "colab": {
          "base_uri": "https://localhost:8080/"
        },
        "id": "HV0j2MP8LEq_",
        "outputId": "f636652f-5867-40ed-b09d-ad16d08122b6"
      },
      "outputs": [
        {
          "output_type": "stream",
          "name": "stdout",
          "text": [
            "渡辺さんの年齢は29才なので成人しています。\n",
            "田中さんの年齢は30才なので成人しています。\n",
            "遠藤さんの年齢は15才なので成人していません。\n",
            "佐藤さんの年齢は9才なので成人していません。\n"
          ]
        }
      ],
      "source": [
        "human_name = [\"渡辺\", \"田中\", \"遠藤\", \"佐藤\"]\n",
        "human_age = [29, 30, 15, 9]\n",
        "human_len = len(human_name)\n",
        "\n",
        "\n",
        "class Human:\n",
        "  def __init__(self, name, age):\n",
        "    self.name = name\n",
        "    self.age = age\n",
        "\n",
        "  def check_adult(self):\n",
        "      if self.age >= 20:\n",
        "        print(f\"{self.name}さんの年齢は{self.age}才なので成人しています。\")\n",
        "      else:\n",
        "        print(f\"{self.name}さんの年齢は{self.age}才なので成人していません。\")\n",
        "\n",
        "for i in range(0, human_len):\n",
        "  human = Human(human_name[i],human_age[i])\n",
        "  i = i + 1\n",
        "  human.check_adult()\n",
        "\n",
        "\n"
      ]
    },
    {
      "cell_type": "code",
      "source": [],
      "metadata": {
        "id": "-kebO5GFeY2Z"
      },
      "execution_count": null,
      "outputs": []
    }
  ]
}