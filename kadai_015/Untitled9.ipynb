{
  "nbformat": 4,
  "nbformat_minor": 0,
  "metadata": {
    "colab": {
      "provenance": []
    },
    "kernelspec": {
      "name": "python3",
      "display_name": "Python 3"
    },
    "language_info": {
      "name": "python"
    }
  },
  "cells": [
    {
      "cell_type": "code",
      "execution_count": 14,
      "metadata": {
        "colab": {
          "base_uri": "https://localhost:8080/"
        },
        "id": "7I7jxJd4BaJC",
        "outputId": "b4d2f827-4e02-4446-bc33-bcf0cbbfbf1b"
      },
      "outputs": [
        {
          "output_type": "stream",
          "name": "stdout",
          "text": [
            "田中ミラベル幸一は89才です。\n",
            "渡辺は29才です。\n"
          ]
        }
      ],
      "source": [
        "class Human:\n",
        "  def __init__(self, name, age):\n",
        "    self.name = name\n",
        "    self.age = age\n",
        "\n",
        "  def printinfo(self):\n",
        "     print(f\"{self.name}は{self.age}才です。\")\n",
        "\n",
        "human1 = Human(\"田中ミラベル幸一\", 89)\n",
        "human2 = Human(\"渡辺\", 29)\n",
        "\n",
        "human1.printinfo()\n",
        "human2.printinfo()"
      ]
    },
    {
      "cell_type": "code",
      "source": [],
      "metadata": {
        "id": "dVh4q8HQFVSY"
      },
      "execution_count": null,
      "outputs": []
    }
  ]
}