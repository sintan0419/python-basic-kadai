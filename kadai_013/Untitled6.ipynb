{
  "nbformat": 4,
  "nbformat_minor": 0,
  "metadata": {
    "colab": {
      "provenance": []
    },
    "kernelspec": {
      "name": "python3",
      "display_name": "Python 3"
    },
    "language_info": {
      "name": "python"
    }
  },
  "cells": [
    {
      "cell_type": "code",
      "execution_count": 23,
      "metadata": {
        "colab": {
          "base_uri": "https://localhost:8080/"
        },
        "id": "PoehE7SYMD9j",
        "outputId": "2050b6da-0859-4cc6-c219-fbc22fab0258"
      },
      "outputs": [
        {
          "output_type": "stream",
          "name": "stdout",
          "text": [
            "1650.0\n",
            "2750.0\n"
          ]
        }
      ],
      "source": [
        "def price(a, b):\n",
        "  return a + (a * b)\n",
        "\n",
        "price_total = price(1500, 0.1)\n",
        "shipping_fee = price(2500, 0.1)\n",
        "\n",
        "print(price_total)\n",
        "print(shipping_fee)\n"
      ]
    },
    {
      "cell_type": "code",
      "source": [],
      "metadata": {
        "id": "Hd112-_cQQOy"
      },
      "execution_count": null,
      "outputs": []
    }
  ]
}